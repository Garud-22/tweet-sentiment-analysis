{
 "cells": [
  {
   "cell_type": "markdown",
   "metadata": {},
   "source": [
    "## Library "
   ]
  },
  {
   "cell_type": "code",
   "execution_count": 5,
   "metadata": {},
   "outputs": [],
   "source": [
    "import numpy as np\n",
    "import pandas as pd\n",
    "import seaborn as sns\n",
    "import matplotlib.pyplot as plt\n",
    "import pickle\n",
    "import re\n",
    "from nltk.corpus import stopwords\n"
   ]
  },
  {
   "cell_type": "code",
   "execution_count": 6,
   "metadata": {},
   "outputs": [],
   "source": [
    "df_train = pd.read_csv(\"twitter_training.csv\")\n",
    "df_test = pd.read_csv(\"twitter_validation.csv\")"
   ]
  },
  {
   "cell_type": "code",
   "execution_count": 7,
   "metadata": {},
   "outputs": [
    {
     "data": {
      "text/html": [
       "<div>\n",
       "<style scoped>\n",
       "    .dataframe tbody tr th:only-of-type {\n",
       "        vertical-align: middle;\n",
       "    }\n",
       "\n",
       "    .dataframe tbody tr th {\n",
       "        vertical-align: top;\n",
       "    }\n",
       "\n",
       "    .dataframe thead th {\n",
       "        text-align: right;\n",
       "    }\n",
       "</style>\n",
       "<table border=\"1\" class=\"dataframe\">\n",
       "  <thead>\n",
       "    <tr style=\"text-align: right;\">\n",
       "      <th></th>\n",
       "      <th>2401</th>\n",
       "      <th>Borderlands</th>\n",
       "      <th>Positive</th>\n",
       "      <th>im getting on borderlands and i will murder you all ,</th>\n",
       "    </tr>\n",
       "  </thead>\n",
       "  <tbody>\n",
       "    <tr>\n",
       "      <th>0</th>\n",
       "      <td>2401</td>\n",
       "      <td>Borderlands</td>\n",
       "      <td>Positive</td>\n",
       "      <td>I am coming to the borders and I will kill you...</td>\n",
       "    </tr>\n",
       "    <tr>\n",
       "      <th>1</th>\n",
       "      <td>2401</td>\n",
       "      <td>Borderlands</td>\n",
       "      <td>Positive</td>\n",
       "      <td>im getting on borderlands and i will kill you ...</td>\n",
       "    </tr>\n",
       "    <tr>\n",
       "      <th>2</th>\n",
       "      <td>2401</td>\n",
       "      <td>Borderlands</td>\n",
       "      <td>Positive</td>\n",
       "      <td>im coming on borderlands and i will murder you...</td>\n",
       "    </tr>\n",
       "    <tr>\n",
       "      <th>3</th>\n",
       "      <td>2401</td>\n",
       "      <td>Borderlands</td>\n",
       "      <td>Positive</td>\n",
       "      <td>im getting on borderlands 2 and i will murder ...</td>\n",
       "    </tr>\n",
       "    <tr>\n",
       "      <th>4</th>\n",
       "      <td>2401</td>\n",
       "      <td>Borderlands</td>\n",
       "      <td>Positive</td>\n",
       "      <td>im getting into borderlands and i can murder y...</td>\n",
       "    </tr>\n",
       "    <tr>\n",
       "      <th>5</th>\n",
       "      <td>2402</td>\n",
       "      <td>Borderlands</td>\n",
       "      <td>Positive</td>\n",
       "      <td>So I spent a few hours making something for fu...</td>\n",
       "    </tr>\n",
       "    <tr>\n",
       "      <th>6</th>\n",
       "      <td>2402</td>\n",
       "      <td>Borderlands</td>\n",
       "      <td>Positive</td>\n",
       "      <td>So I spent a couple of hours doing something f...</td>\n",
       "    </tr>\n",
       "    <tr>\n",
       "      <th>7</th>\n",
       "      <td>2402</td>\n",
       "      <td>Borderlands</td>\n",
       "      <td>Positive</td>\n",
       "      <td>So I spent a few hours doing something for fun...</td>\n",
       "    </tr>\n",
       "    <tr>\n",
       "      <th>8</th>\n",
       "      <td>2402</td>\n",
       "      <td>Borderlands</td>\n",
       "      <td>Positive</td>\n",
       "      <td>So I spent a few hours making something for fu...</td>\n",
       "    </tr>\n",
       "    <tr>\n",
       "      <th>9</th>\n",
       "      <td>2402</td>\n",
       "      <td>Borderlands</td>\n",
       "      <td>Positive</td>\n",
       "      <td>2010 So I spent a few hours making something f...</td>\n",
       "    </tr>\n",
       "  </tbody>\n",
       "</table>\n",
       "</div>"
      ],
      "text/plain": [
       "   2401  Borderlands  Positive  \\\n",
       "0  2401  Borderlands  Positive   \n",
       "1  2401  Borderlands  Positive   \n",
       "2  2401  Borderlands  Positive   \n",
       "3  2401  Borderlands  Positive   \n",
       "4  2401  Borderlands  Positive   \n",
       "5  2402  Borderlands  Positive   \n",
       "6  2402  Borderlands  Positive   \n",
       "7  2402  Borderlands  Positive   \n",
       "8  2402  Borderlands  Positive   \n",
       "9  2402  Borderlands  Positive   \n",
       "\n",
       "  im getting on borderlands and i will murder you all ,  \n",
       "0  I am coming to the borders and I will kill you...     \n",
       "1  im getting on borderlands and i will kill you ...     \n",
       "2  im coming on borderlands and i will murder you...     \n",
       "3  im getting on borderlands 2 and i will murder ...     \n",
       "4  im getting into borderlands and i can murder y...     \n",
       "5  So I spent a few hours making something for fu...     \n",
       "6  So I spent a couple of hours doing something f...     \n",
       "7  So I spent a few hours doing something for fun...     \n",
       "8  So I spent a few hours making something for fu...     \n",
       "9  2010 So I spent a few hours making something f...     "
      ]
     },
     "execution_count": 7,
     "metadata": {},
     "output_type": "execute_result"
    }
   ],
   "source": [
    "df_train.head(10)"
   ]
  },
  {
   "cell_type": "code",
   "execution_count": 8,
   "metadata": {},
   "outputs": [
    {
     "data": {
      "text/html": [
       "<div>\n",
       "<style scoped>\n",
       "    .dataframe tbody tr th:only-of-type {\n",
       "        vertical-align: middle;\n",
       "    }\n",
       "\n",
       "    .dataframe tbody tr th {\n",
       "        vertical-align: top;\n",
       "    }\n",
       "\n",
       "    .dataframe thead th {\n",
       "        text-align: right;\n",
       "    }\n",
       "</style>\n",
       "<table border=\"1\" class=\"dataframe\">\n",
       "  <thead>\n",
       "    <tr style=\"text-align: right;\">\n",
       "      <th></th>\n",
       "      <th>3364</th>\n",
       "      <th>Facebook</th>\n",
       "      <th>Irrelevant</th>\n",
       "      <th>I mentioned on Facebook that I was struggling for motivation to go for a run the other day, which has been translated by Tom’s great auntie as ‘Hayley can’t get out of bed’ and told to his grandma, who now thinks I’m a lazy, terrible person 🤣</th>\n",
       "    </tr>\n",
       "  </thead>\n",
       "  <tbody>\n",
       "    <tr>\n",
       "      <th>0</th>\n",
       "      <td>352</td>\n",
       "      <td>Amazon</td>\n",
       "      <td>Neutral</td>\n",
       "      <td>BBC News - Amazon boss Jeff Bezos rejects clai...</td>\n",
       "    </tr>\n",
       "    <tr>\n",
       "      <th>1</th>\n",
       "      <td>8312</td>\n",
       "      <td>Microsoft</td>\n",
       "      <td>Negative</td>\n",
       "      <td>@Microsoft Why do I pay for WORD when it funct...</td>\n",
       "    </tr>\n",
       "    <tr>\n",
       "      <th>2</th>\n",
       "      <td>4371</td>\n",
       "      <td>CS-GO</td>\n",
       "      <td>Negative</td>\n",
       "      <td>CSGO matchmaking is so full of closet hacking,...</td>\n",
       "    </tr>\n",
       "    <tr>\n",
       "      <th>3</th>\n",
       "      <td>4433</td>\n",
       "      <td>Google</td>\n",
       "      <td>Neutral</td>\n",
       "      <td>Now the President is slapping Americans in the...</td>\n",
       "    </tr>\n",
       "    <tr>\n",
       "      <th>4</th>\n",
       "      <td>6273</td>\n",
       "      <td>FIFA</td>\n",
       "      <td>Negative</td>\n",
       "      <td>Hi @EAHelp I’ve had Madeleine McCann in my cel...</td>\n",
       "    </tr>\n",
       "    <tr>\n",
       "      <th>5</th>\n",
       "      <td>7925</td>\n",
       "      <td>MaddenNFL</td>\n",
       "      <td>Positive</td>\n",
       "      <td>Thank you @EAMaddenNFL!! \\n\\nNew TE Austin Hoo...</td>\n",
       "    </tr>\n",
       "    <tr>\n",
       "      <th>6</th>\n",
       "      <td>11332</td>\n",
       "      <td>TomClancysRainbowSix</td>\n",
       "      <td>Positive</td>\n",
       "      <td>Rocket League, Sea of Thieves or Rainbow Six: ...</td>\n",
       "    </tr>\n",
       "    <tr>\n",
       "      <th>7</th>\n",
       "      <td>1107</td>\n",
       "      <td>AssassinsCreed</td>\n",
       "      <td>Positive</td>\n",
       "      <td>my ass still knee-deep in Assassins Creed Odys...</td>\n",
       "    </tr>\n",
       "    <tr>\n",
       "      <th>8</th>\n",
       "      <td>2069</td>\n",
       "      <td>CallOfDuty</td>\n",
       "      <td>Negative</td>\n",
       "      <td>FIX IT JESUS ! Please FIX IT ! What In the wor...</td>\n",
       "    </tr>\n",
       "    <tr>\n",
       "      <th>9</th>\n",
       "      <td>3185</td>\n",
       "      <td>Dota2</td>\n",
       "      <td>Positive</td>\n",
       "      <td>The professional dota 2 scene is fucking explo...</td>\n",
       "    </tr>\n",
       "  </tbody>\n",
       "</table>\n",
       "</div>"
      ],
      "text/plain": [
       "    3364              Facebook Irrelevant  \\\n",
       "0    352                Amazon    Neutral   \n",
       "1   8312             Microsoft   Negative   \n",
       "2   4371                 CS-GO   Negative   \n",
       "3   4433                Google    Neutral   \n",
       "4   6273                  FIFA   Negative   \n",
       "5   7925             MaddenNFL   Positive   \n",
       "6  11332  TomClancysRainbowSix   Positive   \n",
       "7   1107        AssassinsCreed   Positive   \n",
       "8   2069            CallOfDuty   Negative   \n",
       "9   3185                 Dota2   Positive   \n",
       "\n",
       "  I mentioned on Facebook that I was struggling for motivation to go for a run the other day, which has been translated by Tom’s great auntie as ‘Hayley can’t get out of bed’ and told to his grandma, who now thinks I’m a lazy, terrible person 🤣  \n",
       "0  BBC News - Amazon boss Jeff Bezos rejects clai...                                                                                                                                                                                                  \n",
       "1  @Microsoft Why do I pay for WORD when it funct...                                                                                                                                                                                                  \n",
       "2  CSGO matchmaking is so full of closet hacking,...                                                                                                                                                                                                  \n",
       "3  Now the President is slapping Americans in the...                                                                                                                                                                                                  \n",
       "4  Hi @EAHelp I’ve had Madeleine McCann in my cel...                                                                                                                                                                                                  \n",
       "5  Thank you @EAMaddenNFL!! \\n\\nNew TE Austin Hoo...                                                                                                                                                                                                  \n",
       "6  Rocket League, Sea of Thieves or Rainbow Six: ...                                                                                                                                                                                                  \n",
       "7  my ass still knee-deep in Assassins Creed Odys...                                                                                                                                                                                                  \n",
       "8  FIX IT JESUS ! Please FIX IT ! What In the wor...                                                                                                                                                                                                  \n",
       "9  The professional dota 2 scene is fucking explo...                                                                                                                                                                                                  "
      ]
     },
     "execution_count": 8,
     "metadata": {},
     "output_type": "execute_result"
    }
   ],
   "source": [
    "df_test.head(10)"
   ]
  },
  {
   "cell_type": "code",
   "execution_count": 9,
   "metadata": {},
   "outputs": [],
   "source": [
    "cols = [\"#\", \"reference\", \"sentiment\", \"text\"]\n",
    "df_train.columns = cols\n",
    "df_test.columns = cols"
   ]
  },
  {
   "cell_type": "code",
   "execution_count": 10,
   "metadata": {},
   "outputs": [],
   "source": [
    "Target = \"sentiment\""
   ]
  },
  {
   "cell_type": "code",
   "execution_count": 11,
   "metadata": {},
   "outputs": [
    {
     "name": "stdout",
     "output_type": "stream",
     "text": [
      "<class 'pandas.core.frame.DataFrame'>\n",
      "RangeIndex: 74681 entries, 0 to 74680\n",
      "Data columns (total 4 columns):\n",
      " #   Column     Non-Null Count  Dtype \n",
      "---  ------     --------------  ----- \n",
      " 0   #          74681 non-null  int64 \n",
      " 1   reference  74681 non-null  object\n",
      " 2   sentiment  74681 non-null  object\n",
      " 3   text       73995 non-null  object\n",
      "dtypes: int64(1), object(3)\n",
      "memory usage: 2.3+ MB\n"
     ]
    }
   ],
   "source": [
    "df_train.info()"
   ]
  },
  {
   "cell_type": "markdown",
   "metadata": {},
   "source": [
    "We can see that text column of training dataset has some null values."
   ]
  },
  {
   "cell_type": "code",
   "execution_count": 12,
   "metadata": {},
   "outputs": [
    {
     "data": {
      "text/plain": [
       "#              0\n",
       "reference      0\n",
       "sentiment      0\n",
       "text         686\n",
       "dtype: int64"
      ]
     },
     "execution_count": 12,
     "metadata": {},
     "output_type": "execute_result"
    }
   ],
   "source": [
    "df_train.isnull().sum()"
   ]
  },
  {
   "cell_type": "code",
   "execution_count": 13,
   "metadata": {},
   "outputs": [
    {
     "name": "stdout",
     "output_type": "stream",
     "text": [
      "0.9185736666622032\n"
     ]
    }
   ],
   "source": [
    "#total %age of null values \n",
    "print((100*686)/74681)"
   ]
  },
  {
   "cell_type": "markdown",
   "metadata": {},
   "source": [
    "As the %age of null values is less than 1% we can delete the records having null values"
   ]
  },
  {
   "cell_type": "code",
   "execution_count": 14,
   "metadata": {},
   "outputs": [],
   "source": [
    "df_train.dropna(inplace=True, axis = 0)"
   ]
  },
  {
   "cell_type": "markdown",
   "metadata": {},
   "source": [
    "## STATS ON TWEETS"
   ]
  },
  {
   "cell_type": "code",
   "execution_count": 15,
   "metadata": {},
   "outputs": [
    {
     "data": {
      "text/plain": [
       "19.22673153591459"
      ]
     },
     "execution_count": 15,
     "metadata": {},
     "output_type": "execute_result"
    }
   ],
   "source": [
    "texts = df_train[\"text\"]\n",
    "len_texts = [len(t.split()) for t in texts.values]\n",
    "mean_len_texts = np.mean(len_texts)\n",
    "mean_len_texts"
   ]
  },
  {
   "cell_type": "markdown",
   "metadata": {},
   "source": [
    "Average Length of tweets in training dataset is 20 words."
   ]
  },
  {
   "cell_type": "code",
   "execution_count": 16,
   "metadata": {},
   "outputs": [
    {
     "data": {
      "image/png": "[encoded data removed]",
      "text/plain": [
       "<Figure size 1440x720 with 1 Axes>"
      ]
     },
     "metadata": {
      "needs_background": "light"
     },
     "output_type": "display_data"
    }
   ],
   "source": [
    "fig, ax = plt.subplots(figsize=(20, 10))\n",
    "sns.histplot(len_texts, bins=90,kde=True)\n",
    "plt.show()"
   ]
  },
  {
   "cell_type": "markdown",
   "metadata": {},
   "source": [
    "Distribution of length of text is positively skewwed and some outliers can also be viewed above 100 words."
   ]
  },
  {
   "cell_type": "code",
   "execution_count": 17,
   "metadata": {},
   "outputs": [
    {
     "name": "stdout",
     "output_type": "stream",
     "text": [
      "Target Neutral\n",
      "_ _ _ _ _ _ _ _ _ _ _ _ _ _ _ _ _ _ _ _ _ _ _ _ _ _ _ _ _ _ _ _ _ _ _ _ _ _ _ _ _ _ _ _ _ _ _ _ _ _ _ _ _ _ _ _ _ _ _ _ _ _ _ _ _ _ _ _ _ _ _ _ _ _ _ _ _ _ _ _ _ _ _ _ _ _ _ _ _ _ _ _ _ _ _ _ _ _ _ _ _ _ _ _ _ _ _ _ _ _ _ _ _ _ _ _ _ _ _ _ _ _ _ _ _ _ _ _ _ _ _ _ _ _ _ _ _ _ _ _ _ _ _ _ _ _ _ _ _ _ _ _ _ _ _ _ _ _ _ _ _ _ _ _ _ _ _ _ _ _ _ _ _ _ _ _ _ _ _ _ _ _ _ _ _ _ _ _ _ _ _ _ _ _ _ _ _ _ \n",
      "\n",
      "Target Positive\n",
      "I REALLY HAVE THE OVERWATCH RN GAME. SEA SEA SEA SEA SEA SEA SEA SEA SEA SEA SEA SEA SEA SEA SEA SEA SEA SEA SEA SEE E E E E E E E E E E E E E E E E E E E E E E E E E E E E E E E E E E E E E E E E E E E E E E E E E E E E E E E E E E E E E E E E E E E E E E E E E E E E E E E E E E E E E E E E E E E E E E E E E E E E E E E E E E E E E E E E E E E E E E E E E E E E E E E E E E E E E E E E E E E \n",
      "\n",
      "Target Positive\n",
      "_ _ _ _ _ _ _ _ _ _ _ _ _ _ _ _ _ _ _ _ _ _ _ _ _ _ _ _ _ _ _ _ _ _ _ _ _ _ _ _ _ _ _ _ _ _ _ _ _ _ _ _ _ _ _ _ _ _ _ _ _ _ _ _ _ _ _ _ _ _ _ _ _ _ _ _ _ _ _ _ _ _ _ _ _ _ _ _ _ _ _ _ _ _ _ _ _ _ _ _ _ _ _ _ _ _ _ _ _ _ _ _ _ _ _ _ _ _ _ _ _ _ _ _ _ _ _ _ _ _ _ _ _ _ _ _ _ _ _ _ _ _ _ _ _ _ _ _ _ _ _ _ _ _ _ _ _ _ _ _ _ _ _ _ _ _ _ _ _ _ _ _ _ _ _ _ _ _ _ _ _ _ _ _ _ _ _ _ _ _ _ _ _ _ _ _ _ _ \n",
      "\n",
      "Target Negative\n",
      "At the same time, there are many low-income countries in the world today, including the United States, the United Kingdom, France, Germany, Italy, Italy, Italy, Italy, Italy, Italy, Italy, Italy, Italy, Italy, Italy, Italy, Italy, Italy, Italy, Italy, Italy, Italy, Italy, Italy, Italy, Italy, Italy, Italy, Italy, Italy, Italy, Italy, Italy, Italy, Italy, Italy, Italy, Italy, Italy, Italy, Italy, Italy, Italy, Italy, Italy, Italy, Italy, Italy, Italy, Italy, Italy, Italy, Italy, Italy, Italy, Italy, Italy, Italy, Italy, Italy, Italy, Italy, Italy, Italy, Italy, Italy, Italy, Italy, Italy, Italy, Italy, Italy, Italy, Italy, Italy, Italy, Italy, Italy, Italy, Italy, Italy, Italy, Italy, Italy, Italy, Italy, Italy, Italy, \n",
      "\n",
      "Target Neutral\n",
      "= = = = = = = = = = = = = = = = = = = = = = = = = = = = = = = = = = = = = = = = = = = = = = = = = = = = = = = = = = = = = = = = = = = = = = = = = = = = = = = = = = = = = = = = = = = = = = = = = = = = = = = = = = = = = = = = = = = = = = = = = = = = = = = = = = = = = = = = = = = = = = = = = = = = = = = = = = = = = = = = = = = = = = = = = = = = = = = = = = = = = = = = = = = = = = = = = = = = = = \n",
      "\n",
      "Target Positive\n",
      "playing in 0.3% league tile Clothing is SO enjoyable playing in 0.3% league tile Clothing is SO enjoyable playing in 0.3% league tile Clothing is SO enjoyable playing in 0.3% league tile Clothing is SO enjoyable playing in 0.3% league tile Clothing is SO enjoyable playing in 0.3% league tile Clothing is SO enjoyable playing in 0.3% league tile Clothing is SO enjoyable playing in 0.3% league tile Clothing is SO enjoyable playing in 0.3% league tile Clothing is SO enjoyable playing in 0.3% league tile Clothing is SO enjoyable playing in 0.3% league tile Clothing is SO enjoyable playing in 0.3% league tile Clothing \n",
      "\n",
      "Target Negative\n",
      "# # # # # # # # # # # # # # # # # # # # # # # # # # # # # # # # # # # # # # # # # # # # # # # # # # # # # # # # # # # # # # # # # # # # # # # # # # # # # # # # # # # # # # # # # # # # # # # # # # # # # # # # # # # # # # # # # # # # # # # # # # # # # # # # # # # # # # # # # # # # # # # # # # # # # # # # # # # # # # # # # # # # # # # # # # # # # # # # # # # # # # # # # # # # # # # # # # # # # # \n",
      "\n",
      "Target Neutral\n",
      "There was a meeting with the interns on their upcoming projects, and my background was a TV showing my ped Red Dead Reduction 2 after the pillaging of the dead body, so I'm just trying to hide it from everyone, as I am: / / / / / / / / / / / / / / / / / / / / / / / / / / / / / / / / / / / / / / / / / / / / / / / / / / / / / / / / / / / / / / / / / / / / / / / / / / / / / / / / / / / / / / / / / / / / / / / / / / / / / / / / / / / / / / / / / / / / / / / / / / / / / / / / / / / / / / / / / / / / / / / / / / / \n",
      "\n",
      "Target Irrelevant\n",
      "(PC) Come Vibe With Me. Messing Around in GTA!!!!!!!!!!!!!!!!!!!!!!!!!!!!! _ _ _ _ _ _ _ _ _ _ _ _ _ _ _ _ _ _ _ _ _ _ _ _ _ _ _ _ _ _ _ _ _ _ _ _ _ _ _ _ _ _ _ _ _ _ _ _ _ _ _ _ _ _ _ _ _ _ _ _ _ _ _ _ _ _ _ _ _ _ _ _ _ _ _ _ _ _ _ _ _ _ _ _ _ _ _ _ _ _ _ _ _ _ _ _ _ _ _ _ _ _ _ _ _ _ _ _ _ _ _ _ _ _ _ _ _ _ _ _ _ _ _ _ _ _ _ _ _ _ _ _ _ _ _ _ _ _ _ _ _ _ _ _ _ _ _ _ _ _ _ _ _ _ \n",
      "\n",
      "Target Neutral\n",
      "@ _ _ _ _ _ _ _ _ _ _ _ _ _ _ _ _ _ _ _ _ _ _ _ _ _ _ _ _ _ _ _ _ _ _ _ _ _ _ _ _ _ _ _ _ _ _ _ _ _ _ _ _ _ _ _ _ _ _ _ _ _ _ _ _ _ _ _ _ _ _ _ _ _ _ _ _ _ _ _ _ _ _ _ _ _ _ _ _ _ _ _ _ _ _ _ _ _ _ _ _ _ _ _ _ _ _ _ _ _ _ _ _ _ _ _ _ _ _ _ _ _ _ _ _ _ _ _ _ _ _ _ _ _ _ _ _ _ _ _ _ _ _ _ _ _ _ _ _ _ _ _ _ _ _ _ _ _ _ _ _ _ _ _ _ _ _ _ _ _ _ _ _ _ _ \n",
      "\n",
      "Target Negative\n",
      "When fear is raised that \"punk-2077\" may be postponed for several years, which I hope will not happen, but here is another powerful blow to the Bollocks in 2020: / / / / / / / / / / / / / / / / / / / / / / / / / / / / / / / / / / / / / / / / / / / / / / / / / / / / / / / / / / / / / / / / / / / / / / / / / / / / / / / / / / / / / / / / / / / / / / / / / / / / / / / / / / / / / / / / / / / / / / / / / / / / / / / / / / / / / / / / / / / / / / / / / / / / / / / / / / / / / / / / \n",
      "\n",
      "Target Neutral\n",
      "I'm a little disappointed, but my schedule approves this decision entirely. ^ _ _ _ _ _ _ _ _ _ _ _ _ _ _ _ _ _ _ _ _ _ _ _ _ _ _ _ _ _ _ _ _ _ _ _ _ _ _ _ _ _ _ _ _ _ _ _ _ _ _ _ _ _ _ _ _ _ _ _ _ _ _ _ _ _ _ _ _ _ _ _ _ _ _ _ _ _ _ _ _ _ _ _ _ _ _ _ _ _ _ _ _ _ _ _ _ _ _ _ _ _ _ _ _ _ _ _ _ _ _ _ _ _ _ _ _ _ _ _ _ _ _ _ _ _ _ _ _ _ _ _ _ _ _ _ _ _ _ _ _ _ _ _ _ _ _ _ _ _ _ _ _ _ _ _ _ _ _ _ _ _ _ _ _ _ _ _ _ _ _ _ _ _ _ _ _ _ _ _ _ _ _ \n",
      "\n",
      "Target Neutral\n",
      "The event dedicated to Victory Day in the Great Patriotic War was held as part of the celebration of the 70th anniversary of Victory in the Great Patriotic War of 1941-1945, which was attended by veterans of the Great Patriotic War, home front workers, home front workers, home front workers, home front workers, home front workers, home front workers, home front workers, home front workers, home front workers, home front workers, home front workers, home front workers, home front workers, home front workers, home front workers, home front workers, home front workers, home front workers, home front workers, home front workers, home front workers, home front workers, home front workers, home front workers, home front workers, home front workers, home front workers, home front workers, home front workers, home front workers, home front workers, home front workers, home front workers, home front workers, home front workers, home front workers, home \n",
      "\n"
     ]
    }
   ],
   "source": [
    "outliers = df_train['text'][np.array(len_texts)>100]\n",
    "for inx in outliers.index:\n",
    "    print('Target', df_train[\"sentiment\"][inx])\n",
    "    print(outliers[inx],'\\n')"
   ]
  },
  {
   "cell_type": "markdown",
   "metadata": {},
   "source": [
    "Some of the text marked as outliers due there length only have irrelevant or repeated symbols increasing there length."
   ]
  },
  {
   "cell_type": "markdown",
   "metadata": {},
   "source": [
    "Check for data imbalance"
   ]
  },
  {
   "cell_type": "code",
   "execution_count": 18,
   "metadata": {},
   "outputs": [
    {
     "data": {
      "text/plain": [
       "Negative      22358\n",
       "Positive      20654\n",
       "Neutral       18108\n",
       "Irrelevant    12875\n",
       "Name: sentiment, dtype: int64"
      ]
     },
     "execution_count": 18,
     "metadata": {},
     "output_type": "execute_result"
    }
   ],
   "source": [
    "df_train.sentiment.value_counts()"
   ]
  },
  {
   "cell_type": "markdown",
   "metadata": {},
   "source": [
    "Count of all target categories is equal so no resampling is required."
   ]
  },
  {
   "cell_type": "code",
   "execution_count": 19,
   "metadata": {},
   "outputs": [],
   "source": [
    "stp_list = stopwords.words('english') #list of stop words in english \n",
    "\n",
    "count = {'Positive':[],\n",
    "         'Neutral':[],\n",
    "         'Irrelevant':[],\n",
    "         'Negative':[]}\n",
    "\n",
    "pattern = re.compile('[^\\w ]') # this is regex to split string of words into a list of words\n",
    "\n",
    "for tweet, s in zip(df_train['text'],df_train['sentiment']):\n",
    "    tweet = re.sub(pattern,'',tweet).lower().split()\n",
    "    tweet = [word for word in tweet if word not in stp_list]\n",
    "    count[s].extend(tweet)"
   ]
  },
  {
   "cell_type": "code",
   "execution_count": 20,
   "metadata": {},
   "outputs": [
    {
     "name": "stdout",
     "output_type": "stream",
     "text": [
      "Top Positive words\n",
      "\n",
      "game      2272\n",
      "love      1777\n",
      "im        1769\n",
      "good      1614\n",
      "like      1359\n",
      "really    1290\n",
      "2         1280\n",
      "new       1199\n",
      "best      1112\n",
      "one       1058\n",
      "dtype: int64 \n",
      "\n",
      "Top Neutral words\n",
      "\n",
      "johnson    1766\n",
      "2          1337\n",
      "game       1227\n",
      "amazon     1118\n",
      "_          1080\n",
      "like        909\n",
      "im          891\n",
      "get         886\n",
      "one         855\n",
      "new         850\n",
      "dtype: int64 \n",
      "\n",
      "Top Irrelevant words\n",
      "\n",
      "like      992\n",
      "see       943\n",
      "player    878\n",
      "im        856\n",
      "game      793\n",
      "people    764\n",
      "ban       739\n",
      "love      670\n",
      "good      663\n",
      "one       663\n",
      "dtype: int64 \n",
      "\n",
      "Top Negative words\n",
      "\n",
      "game    3766\n",
      "get     1662\n",
      "like    1620\n",
      "shit    1516\n",
      "im      1425\n",
      "fix     1313\n",
      "fuck    1259\n",
      "cant    1226\n",
      "play    1209\n",
      "dont    1127\n",
      "dtype: int64 \n",
      "\n"
     ]
    }
   ],
   "source": [
    "\n",
    "for target, words in count.items():\n",
    "    top_word_list = pd.Series(words).value_counts()[:10]\n",
    "    print(\"Top\",target,\"words\\n\")\n",
    "    print(top_word_list,\"\\n\")"
   ]
  },
  {
   "cell_type": "code",
   "execution_count": 21,
   "metadata": {},
   "outputs": [
    {
     "name": "stdout",
     "output_type": "stream",
     "text": [
      "==================================================================================================== \n",
      "Top emojis for Positive \n",
      " ['🤣', '🥰', '🥺', '🤦', '🤔', '🤩', '🥳', '™', '🤯', '🤷', '🦁', '‼', '🤖', '🥴', '🤤']\n",
      "==================================================================================================== \n",
      "Top emojis for Neutral \n",
      " ['🤣', '🤔', '🤦', '🥺', '™', '🤷', '©', '🤩', '🥰', '‼', '🤯', '🥳', '🤠', '🤡', '🤨']\n",
      "==================================================================================================== \n",
      "Top emojis for Irrelevant \n",
      " ['🤣', '🥺', '🥰', '🤦', '🤷', '🤔', '🥳', '🤗', '🥴', '🤪', '🧘', '🤧', '🦋', '🤓', '🤬']\n",
      "==================================================================================================== \n",
      "Top emojis for Negative \n",
      " ['🤦', '🤣', '🥺', '🤬', '🥴', '🤷', '🤔', '™', '🧢', '🤡', '🤢', '🤩', '🤑', '‼', '🤪']\n"
     ]
    }
   ],
   "source": [
    "# emoticons\n",
    "from emoji import UNICODE_EMOJI\n",
    "import emoji\n",
    "import regex as re\n",
    "\n",
    "def split_count(text):\n",
    "    emoji_list = []\n",
    "    data = re.findall(r'\\X', text)\n",
    "    for word in data:\n",
    "        if any(char in UNICODE_EMOJI['en'] for char in word):\n",
    "            emoji_list.append(word)\n",
    "    \n",
    "    return emoji_list\n",
    "\n",
    "target_emojis = {'Positive': [],\n",
    "                'Neutral': [],\n",
    "                'Irrelevant': [],\n",
    "                'Negative': []}\n",
    "\n",
    "pattern = re.compile('\\u200d')\n",
    "for i, text in enumerate(texts):\n",
    "    emoji_count = split_count(text)\n",
    "    if emoji_count:\n",
    "        emoji_count = [re.sub(pattern, '', e) for e in emoji_count]\n",
    "        target_emojis[df_train[\"sentiment\"].iloc[i]].extend(emoji_count)\n",
    "\n",
    "for t, emojis in target_emojis.items():\n",
    "    bar_info = pd.Series(emojis).value_counts()[:15]\n",
    "    print('=========='*10,  f'\\nTop emojis for {t} \\n', list(bar_info.index))\n",
    "    "
   ]
  },
  {
   "cell_type": "markdown",
   "metadata": {},
   "source": [
    "## Preprocessing"
   ]
  },
  {
   "cell_type": "code",
   "execution_count": 22,
   "metadata": {},
   "outputs": [],
   "source": [
    "from tqdm import tqdm\n",
    "from sklearn.feature_extraction.text import TfidfVectorizer\n",
    "from spacy.lang.en import English\n",
    "import emoji\n",
    "import spacy\n",
    "from sklearn.preprocessing import OneHotEncoder\n",
    "from sklearn.utils.validation import check_is_fitted\n",
    "from sklearn.model_selection import train_test_split\n",
    "from sklearn.exceptions import NotFittedError\n",
    "\n",
    "import re\n",
    "\n",
    "import nltk\n",
    "from nltk.corpus import stopwords\n",
    "stopwords = set(stopwords.words('english'))\n",
    "nlp = spacy.load(\"en_core_web_sm\")"
   ]
  },
  {
   "cell_type": "code",
   "execution_count": 23,
   "metadata": {},
   "outputs": [],
   "source": [
    "class Preprocessor:\n",
    "    def __init__(self, stopwords=stopwords):\n",
    "        self.vectorizer = TfidfVectorizer(lowercase=False, max_features=8000,\n",
    "                                         min_df=10, ngram_range=(1, 3),\n",
    "                                         tokenizer=None)\n",
    "        self.stopwords = stopwords\n",
    "        self.vectorizer_fitted = False\n",
    "        \n",
    "    def remove_urls(self, texts):\n",
    "        print('Removing URLs...')\n",
    "        pattern = re.compile('(\\w+\\.com ?/ ?.+)|(http\\S+)')\n",
    "        return [re.sub(pattern, '', text) for text in texts]\n",
    "    \n",
    "    def remove_double_space(self, texts):\n",
    "        print('Removing double space...')\n",
    "        pattern = re.compile(' +')\n",
    "        return [re.sub(pattern, ' ', text) for text in texts]\n",
    "        \n",
    "    def remove_punctuation(self, texts):\n",
    "        print('Removing Punctuation...')\n",
    "        pattern = re.compile('[^a-z ]')\n",
    "        return [re.sub(pattern, ' ', text) for text in texts]\n",
    "    \n",
    "    def remove_stopwords(self, texts):\n",
    "        print('Removing stopwords...')\n",
    "        return [[w for w in text.split(' ') if w not in self.stopwords] for text in tqdm(texts)]\n",
    "    \n",
    "    def remove_numbers(self, texts):\n",
    "        print('Removing numbers...')\n",
    "        return [' '.join([w for w in text if not w.isdigit()]) for text in tqdm(texts)]\n",
    "    \n",
    "    def decode_emojis(self, texts):\n",
    "        print('Decoding emojis...')\n",
    "        return [emoji.demojize(text, language='en') for text in texts] \n",
    "    \n",
    "    def lemmatize(self, texts):\n",
    "        print('Lemmatizing...')\n",
    "        lemmatized_texts = []\n",
    "        for text in tqdm(texts):\n",
    "            doc = nlp(text)\n",
    "            lemmatized_texts.append(' '.join([token.lemma_ for token in doc]))\n",
    "                                    \n",
    "        return lemmatized_texts\n",
    "        \n",
    "    def transform(self, X, y=None, mode='train'):\n",
    "        X = X.copy()\n",
    "        print('Removing Nans...')\n",
    "        X = X[~X.isnull()]                          # delete nans\n",
    "        X = X[~X.duplicated()]                      # delete duplicates\n",
    "        \n",
    "        if mode == 'train':\n",
    "            self.train_idx = X.index\n",
    "        else:\n",
    "            self.test_idx = X.index\n",
    "        print('Counting capitalized...')\n",
    "        capitalized = [np.sum([t.isupper() for t in text.split()]) \n",
    "                           for text in np.array(X.values)]  # count capitalized\n",
    "        # X['cap'] = capitalized\n",
    "        print('Lowering...')\n",
    "        X = [text.lower() for text in X]             # lower\n",
    "        X = self.remove_urls(X)                      # remove urls\n",
    "        X = self.remove_punctuation(X)               # remove punctuation\n",
    "        X = self.remove_double_space(X)              # remove double space\n",
    "        X = self.decode_emojis(X)                    # decode emojis\n",
    "        X = self.remove_stopwords(X)                 # remove stopwords\n",
    "        X = self.remove_numbers(X)                   # remove numbers                      \n",
    "        X = self.lemmatize(X)                        # lemmatize\n",
    "        \n",
    "        if not self.vectorizer_fitted:\n",
    "            self.vectorizer_fitted = True\n",
    "            print('Fitting vectorizer...')\n",
    "            self.vectorizer.fit(X)\n",
    "\n",
    "        print('Vectorizing...')\n",
    "        X = self.vectorizer.transform(X)             # vectorize\n",
    "        \n",
    "        return X"
   ]
  },
  {
   "cell_type": "code",
   "execution_count": 24,
   "metadata": {},
   "outputs": [
    {
     "name": "stdout",
     "output_type": "stream",
     "text": [
      "Removing Nans...\n",
      "Counting capitalized...\n",
      "Lowering...\n",
      "Removing URLs...\n",
      "Removing Punctuation...\n",
      "Removing double space...\n",
      "Decoding emojis...\n",
      "Removing stopwords...\n"
     ]
    },
    {
     "name": "stderr",
     "output_type": "stream",
     "text": [
      "100%|██████████| 69490/69490 [00:00<00:00, 169116.62it/s]\n"
     ]
    },
    {
     "name": "stdout",
     "output_type": "stream",
     "text": [
      "Removing numbers...\n"
     ]
    },
    {
     "name": "stderr",
     "output_type": "stream",
     "text": [
      "100%|██████████| 69490/69490 [00:00<00:00, 391430.90it/s]\n"
     ]
    },
    {
     "name": "stdout",
     "output_type": "stream",
     "text": [
      "Lemmatizing...\n"
     ]
    },
    {
     "name": "stderr",
     "output_type": "stream",
     "text": [
      "100%|██████████| 69490/69490 [11:24<00:00, 101.50it/s]\n"
     ]
    },
    {
     "name": "stdout",
     "output_type": "stream",
     "text": [
      "Fitting vectorizer...\n",
      "Vectorizing...\n",
      "  (0, 3787)\t0.5002575827746358\n",
      "  (0, 1178)\t0.4337609348134879\n",
      "  (0, 735)\t0.749395624691129\n",
      "  (1, 3787)\t0.6619881601410632\n",
      "  (1, 2782)\t0.4241936332410107\n",
      "  (1, 736)\t0.617925106587231\n",
      "  (2, 4576)\t0.753825312671329\n",
      "  (2, 1178)\t0.44719346034398366\n",
      "  (2, 736)\t0.4814201979576126\n",
      "  (3, 4576)\t0.790554367073284\n",
      "  (3, 2782)\t0.34658809212517444\n",
      "  (3, 736)\t0.5048767048482143\n",
      "  (4, 4576)\t0.790554367073284\n",
      "  (4, 2782)\t0.34658809212517444\n",
      "  (4, 736)\t0.5048767048482143\n",
      "  (5, 7505)\t0.2829214513940095\n",
      "  (5, 6559)\t0.2525718991154358\n",
      "  (5, 6558)\t0.18619528780076355\n",
      "  (5, 6500)\t0.16372981435087805\n",
      "  (5, 5222)\t0.1200819176899859\n",
      "  (5, 5126)\t0.17081547811114656\n",
      "  (5, 5007)\t0.20627380046698018\n",
      "  (5, 4934)\t0.23797497446661034\n",
      "  (5, 4927)\t0.12297347706294098\n",
      "  (5, 4361)\t0.2744860169410724\n",
      "  :\t:\n",
      "  (69487, 608)\t0.3129496320291094\n",
      "  (69488, 7923)\t0.17577140352732007\n",
      "  (69488, 7767)\t0.3048413572646622\n",
      "  (69488, 5767)\t0.2672561678804314\n",
      "  (69488, 4847)\t0.3321332147530617\n",
      "  (69488, 4843)\t0.19165473779787906\n",
      "  (69488, 4824)\t0.28267018920791137\n",
      "  (69488, 4232)\t0.3158496833887548\n",
      "  (69488, 4029)\t0.3485810484673702\n",
      "  (69488, 3970)\t0.1462194473606205\n",
      "  (69488, 3483)\t0.24108935342845628\n",
      "  (69488, 2476)\t0.16553173699308163\n",
      "  (69488, 2039)\t0.19264256507083655\n",
      "  (69488, 1775)\t0.27238199247054246\n",
      "  (69488, 925)\t0.2594054414770918\n",
      "  (69488, 608)\t0.26652361042500133\n",
      "  (69489, 7923)\t0.20803645358513767\n",
      "  (69489, 7767)\t0.3607988193686081\n",
      "  (69489, 4824)\t0.3345578547873039\n",
      "  (69489, 4232)\t0.3738278620957369\n",
      "  (69489, 4029)\t0.4125674805735355\n",
      "  (69489, 3970)\t0.34611972896210286\n",
      "  (69489, 3483)\t0.2853443340491633\n",
      "  (69489, 1775)\t0.3223811302457846\n",
      "  (69489, 608)\t0.3154473685527923\n",
      "       aaa  aaron   ab  abandon  abandon sanction  abc  ability  able  \\\n",
      "0      0.0    0.0  0.0      0.0               0.0  0.0      0.0   0.0   \n",
      "1      0.0    0.0  0.0      0.0               0.0  0.0      0.0   0.0   \n",
      "2      0.0    0.0  0.0      0.0               0.0  0.0      0.0   0.0   \n",
      "3      0.0    0.0  0.0      0.0               0.0  0.0      0.0   0.0   \n",
      "4      0.0    0.0  0.0      0.0               0.0  0.0      0.0   0.0   \n",
      "...    ...    ...  ...      ...               ...  ...      ...   ...   \n",
      "69485  0.0    0.0  0.0      0.0               0.0  0.0      0.0   0.0   \n",
      "69486  0.0    0.0  0.0      0.0               0.0  0.0      0.0   0.0   \n",
      "69487  0.0    0.0  0.0      0.0               0.0  0.0      0.0   0.0   \n",
      "69488  0.0    0.0  0.0      0.0               0.0  0.0      0.0   0.0   \n",
      "69489  0.0    0.0  0.0      0.0               0.0  0.0      0.0   0.0   \n",
      "\n",
      "       able go  able play  ...  zip  zoe  zombie  zone  zonestream  \\\n",
      "0          0.0        0.0  ...  0.0  0.0     0.0   0.0         0.0   \n",
      "1          0.0        0.0  ...  0.0  0.0     0.0   0.0         0.0   \n",
      "2          0.0        0.0  ...  0.0  0.0     0.0   0.0         0.0   \n",
      "3          0.0        0.0  ...  0.0  0.0     0.0   0.0         0.0   \n",
      "4          0.0        0.0  ...  0.0  0.0     0.0   0.0         0.0   \n",
      "...        ...        ...  ...  ...  ...     ...   ...         ...   \n",
      "69485      0.0        0.0  ...  0.0  0.0     0.0   0.0         0.0   \n",
      "69486      0.0        0.0  ...  0.0  0.0     0.0   0.0         0.0   \n",
      "69487      0.0        0.0  ...  0.0  0.0     0.0   0.0         0.0   \n",
      "69488      0.0        0.0  ...  0.0  0.0     0.0   0.0         0.0   \n",
      "69489      0.0        0.0  ...  0.0  0.0     0.0   0.0         0.0   \n",
      "\n",
      "       zonestream cx  zoom  zoth  zuckerberg   zy  \n",
      "0                0.0   0.0   0.0         0.0  0.0  \n",
      "1                0.0   0.0   0.0         0.0  0.0  \n",
      "2                0.0   0.0   0.0         0.0  0.0  \n",
      "3                0.0   0.0   0.0         0.0  0.0  \n",
      "4                0.0   0.0   0.0         0.0  0.0  \n",
      "...              ...   ...   ...         ...  ...  \n",
      "69485            0.0   0.0   0.0         0.0  0.0  \n",
      "69486            0.0   0.0   0.0         0.0  0.0  \n",
      "69487            0.0   0.0   0.0         0.0  0.0  \n",
      "69488            0.0   0.0   0.0         0.0  0.0  \n",
      "69489            0.0   0.0   0.0         0.0  0.0  \n",
      "\n",
      "[69490 rows x 8000 columns]\n"
     ]
    }
   ],
   "source": [
    "pr = Preprocessor()\n",
    "y_train = df_train['sentiment']\n",
    "y_test = df_test['sentiment']\n",
    "\n",
    "df_train_pr = pr.transform(df_train['text'])\n",
    "df_train_pr = pd.DataFrame.sparse.from_spmatrix(df_train_pr, columns=pr.vectorizer.get_feature_names())\n",
    "\n",
    "ohe = OneHotEncoder()\n",
    "referring_ohe = ohe.fit_transform(df_train['reference'][df_train.index.isin(pr.train_idx)].to_numpy().reshape(-1, 1))\n",
    "referring_ohe = pd.DataFrame.sparse.from_spmatrix(referring_ohe, columns=ohe.get_feature_names())\n",
    "\n",
    "X_train = pd.concat([df_train_pr, referring_ohe], axis=1)\n",
    "y_train = y_train[y_train.index.isin(pr.train_idx)]\n",
    "y_train.index = X_train.index"
   ]
  },
  {
   "cell_type": "code",
   "execution_count": 25,
   "metadata": {},
   "outputs": [
    {
     "name": "stdout",
     "output_type": "stream",
     "text": [
      "Removing Nans...\n",
      "Counting capitalized...\n",
      "Lowering...\n",
      "Removing URLs...\n",
      "Removing Punctuation...\n",
      "Removing double space...\n",
      "Decoding emojis...\n",
      "Removing stopwords...\n"
     ]
    },
    {
     "name": "stderr",
     "output_type": "stream",
     "text": [
      "100%|██████████| 998/998 [00:00<00:00, 200292.62it/s]\n"
     ]
    },
    {
     "name": "stdout",
     "output_type": "stream",
     "text": [
      "Removing numbers...\n"
     ]
    },
    {
     "name": "stderr",
     "output_type": "stream",
     "text": [
      "100%|██████████| 998/998 [00:00<00:00, 333645.42it/s]\n"
     ]
    },
    {
     "name": "stdout",
     "output_type": "stream",
     "text": [
      "Lemmatizing...\n"
     ]
    },
    {
     "name": "stderr",
     "output_type": "stream",
     "text": [
      "100%|██████████| 998/998 [00:09<00:00, 103.97it/s]\n"
     ]
    },
    {
     "name": "stdout",
     "output_type": "stream",
     "text": [
      "Vectorizing...\n"
     ]
    }
   ],
   "source": [
    "df_test_pr = pr.transform(df_test['text'], mode='test')\n",
    "df_test_pr = pd.DataFrame.sparse.from_spmatrix(df_test_pr, columns=pr.vectorizer.get_feature_names())\n",
    "\n",
    "ohe = OneHotEncoder()\n",
    "referring_ohe = ohe.fit_transform(df_train['reference'][df_train.index.isin(pr.train_idx)].to_numpy().reshape(-1, 1))\n",
    "referring_ohe = ohe.transform(df_test['reference'][df_test.index.isin(pr.test_idx)].to_numpy().reshape(-1, 1))\n",
    "referring_ohe = pd.DataFrame.sparse.from_spmatrix(referring_ohe, columns=ohe.get_feature_names())\n",
    "\n",
    "X_test = pd.concat([df_test_pr, referring_ohe], axis=1)\n",
    "y_test = y_test[y_test.index.isin(pr.test_idx)]\n",
    "y_test.index = X_test.index"
   ]
  },
  {
   "cell_type": "code",
   "execution_count": 26,
   "metadata": {},
   "outputs": [
    {
     "data": {
      "text/plain": [
       "(69490, 8032)"
      ]
     },
     "execution_count": 26,
     "metadata": {},
     "output_type": "execute_result"
    }
   ],
   "source": [
    "X_train.shape"
   ]
  },
  {
   "cell_type": "code",
   "execution_count": 27,
   "metadata": {},
   "outputs": [],
   "source": [
    "from sklearn.metrics import classification_report\n",
    "from sklearn.model_selection import RandomizedSearchCV\n",
    "from sklearn.linear_model import LogisticRegression\n",
    "from scipy.stats import uniform, randint\n",
    "from sklearn.model_selection import train_test_split, GridSearchCV, KFold\n",
    "from sklearn.metrics import confusion_matrix"
   ]
  },
  {
   "cell_type": "code",
   "execution_count": 28,
   "metadata": {},
   "outputs": [],
   "source": [
    "def train_cv(model, X_train, y_train, params, n_splits=5, scoring='f1_weighted'):\n",
    "    kf = KFold(n_splits=n_splits, random_state=0, shuffle=True)\n",
    "\n",
    "    cv = RandomizedSearchCV(model,\n",
    "                        params,\n",
    "                        cv=kf,\n",
    "                        scoring=scoring,\n",
    "                        return_train_score=True,\n",
    "                        n_jobs=-1,\n",
    "                        verbose=2,\n",
    "                        random_state=1\n",
    "                        )\n",
    "    cv.fit(X_train, y_train)\n",
    "\n",
    "    print('Best params', cv.best_params_)\n",
    "    return cv"
   ]
  },
  {
   "cell_type": "code",
   "execution_count": 29,
   "metadata": {},
   "outputs": [],
   "source": [
    "rs_parameters = {\n",
    "    'penalty': ['l2', 'l1', 'elasticnet'],\n",
    "    'C': uniform(scale=10),\n",
    "    'solver': ['newton-cg', 'lbfgs', 'liblinear', 'saga'],\n",
    "    'l1_ratio': uniform(scale=10)\n",
    "    }"
   ]
  },
  {
   "cell_type": "code",
   "execution_count": 31,
   "metadata": {},
   "outputs": [
    {
     "name": "stdout",
     "output_type": "stream",
     "text": [
      "Fitting 5 folds for each of 10 candidates, totalling 50 fits\n"
     ]
    },
    {
     "name": "stderr",
     "output_type": "stream",
     "text": [
      "c:\\Users\\hp\\anaconda3\\lib\\site-packages\\sklearn\\model_selection\\_search.py:922: UserWarning: One or more of the test scores are non-finite: [0.78345872        nan 0.78042286 0.78383133        nan 0.79216909\n",
      "        nan        nan 0.74295489 0.75300155]\n",
      "  warnings.warn(\n",
      "c:\\Users\\hp\\anaconda3\\lib\\site-packages\\sklearn\\model_selection\\_search.py:922: UserWarning: One or more of the train scores are non-finite: [0.88087505        nan 0.86768752 0.87593788        nan 0.90106284\n",
      "        nan        nan 0.81769245 0.82228678]\n",
      "  warnings.warn(\n",
      "c:\\Users\\hp\\anaconda3\\lib\\site-packages\\sklearn\\linear_model\\_logistic.py:1317: UserWarning: l1_ratio parameter is only used when penalty is 'elasticnet'. Got (penalty=l1)\n",
      "  warnings.warn(\"l1_ratio parameter is only used when penalty is \"\n"
     ]
    },
    {
     "name": "stdout",
     "output_type": "stream",
     "text": [
      "Best params {'C': 9.13962024579233, 'l1_ratio': 4.572048079869883, 'penalty': 'l1', 'solver': 'saga'}\n"
     ]
    },
    {
     "name": "stderr",
     "output_type": "stream",
     "text": [
      "c:\\Users\\hp\\anaconda3\\lib\\site-packages\\sklearn\\linear_model\\_sag.py:328: ConvergenceWarning: The max_iter was reached which means the coef_ did not converge\n",
      "  warnings.warn(\"The max_iter was reached which means \"\n"
     ]
    }
   ],
   "source": [
    "lr = LogisticRegression()\n",
    "model_cv_lr = train_cv(lr, X_train, y_train, rs_parameters)\n"
   ]
  },
  {
   "cell_type": "code",
   "execution_count": 33,
   "metadata": {},
   "outputs": [
    {
     "name": "stdout",
     "output_type": "stream",
     "text": [
      "              precision    recall  f1-score   support\n",
      "\n",
      "  Irrelevant       0.89      0.89      0.89       171\n",
      "    Negative       0.92      0.91      0.92       266\n",
      "     Neutral       0.94      0.91      0.92       285\n",
      "    Positive       0.88      0.92      0.90       276\n",
      "\n",
      "    accuracy                           0.91       998\n",
      "   macro avg       0.91      0.91      0.91       998\n",
      "weighted avg       0.91      0.91      0.91       998\n",
      "\n"
     ]
    }
   ],
   "source": [
    "bestimator_lr = model_cv_lr.best_estimator_\n",
    "print(classification_report(y_test, bestimator_lr.predict(X_test)))"
   ]
  },
  {
   "cell_type": "markdown",
   "metadata": {},
   "source": [
    "Accuracy of 91% is achieved"
   ]
  }
 ],
 "metadata": {
  "kernelspec": {
   "display_name": "Python 3 (ipykernel)",
   "language": "python",
   "name": "python3"
  },
  "language_info": {
   "codemirror_mode": {
    "name": "ipython",
    "version": 3
   },
   "file_extension": ".py",
   "mimetype": "text/x-python",
   "name": "python",
   "nbconvert_exporter": "python",
   "pygments_lexer": "ipython3",
   "version": "3.9.7"
  },
  "vscode": {
   "interpreter": {
    "hash": "b302cdd1e032ee910f5c889c3360c28564c92ad4f326fc3102e39fbe47faee66"
   }
  }
 },
 "nbformat": 4,
 "nbformat_minor": 2
}
